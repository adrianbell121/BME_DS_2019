{
  "nbformat": 4,
  "nbformat_minor": 0,
  "metadata": {
    "colab": {
      "name": "hw0_DS_pt1.ipynb",
      "version": "0.3.2",
      "provenance": [],
      "include_colab_link": true
    },
    "kernelspec": {
      "name": "python3",
      "display_name": "Python 3"
    }
  },
  "cells": [
    {
      "cell_type": "markdown",
      "metadata": {
        "id": "view-in-github",
        "colab_type": "text"
      },
      "source": [
        "<a href=\"https://colab.research.google.com/github/adrianbell121/BME_DS_2019/blob/master/hw0_DS_pt1.ipynb\" target=\"_parent\"><img src=\"https://colab.research.google.com/assets/colab-badge.svg\" alt=\"Open In Colab\"/></a>"
      ]
    },
    {
      "cell_type": "code",
      "metadata": {
        "id": "ulbHWT8GMhgf",
        "colab_type": "code",
        "colab": {
          "base_uri": "https://localhost:8080/",
          "height": 217
        },
        "outputId": "115bfd38-f8a9-425c-a7d4-914dbd0b6ff0"
      },
      "source": [
        "a = 5;\n",
        "for i in range(6):\n",
        "  print(\"yeet\")\n",
        "  a = a + 1;\n",
        "  print(a);"
      ],
      "execution_count": 4,
      "outputs": [
        {
          "output_type": "stream",
          "text": [
            "yeet\n",
            "6\n",
            "yeet\n",
            "7\n",
            "yeet\n",
            "8\n",
            "yeet\n",
            "9\n",
            "yeet\n",
            "10\n",
            "yeet\n",
            "11\n"
          ],
          "name": "stdout"
        }
      ]
    }
  ]
}