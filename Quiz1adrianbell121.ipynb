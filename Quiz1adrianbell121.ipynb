{
  "nbformat": 4,
  "nbformat_minor": 0,
  "metadata": {
    "colab": {
      "name": "Quiz1adrianbell121.ipynb",
      "version": "0.3.2",
      "provenance": [],
      "collapsed_sections": [],
      "include_colab_link": true
    },
    "kernelspec": {
      "name": "python3",
      "display_name": "Python 3"
    }
  },
  "cells": [
    {
      "cell_type": "markdown",
      "metadata": {
        "id": "view-in-github",
        "colab_type": "text"
      },
      "source": [
        "<a href=\"https://colab.research.google.com/github/adrianbell121/BME_DS_2019/blob/master/Quiz1adrianbell121.ipynb\" target=\"_parent\"><img src=\"https://colab.research.google.com/assets/colab-badge.svg\" alt=\"Open In Colab\"/></a>"
      ]
    },
    {
      "cell_type": "markdown",
      "metadata": {
        "id": "ez9W6yAxF3Ck",
        "colab_type": "text"
      },
      "source": [
        "# Quiz 1 adrianbell121\n",
        "## JHED: abell44\n",
        "\n"
      ]
    },
    {
      "cell_type": "code",
      "metadata": {
        "id": "yydmu_9AF8dL",
        "colab_type": "code",
        "colab": {}
      },
      "source": [
        "#Imports\n",
        "import pandas as pd"
      ],
      "execution_count": 0,
      "outputs": []
    },
    {
      "cell_type": "code",
      "metadata": {
        "id": "i-GLwIPDGkRC",
        "colab_type": "code",
        "colab": {}
      },
      "source": [
        "#Load data from website\n",
        "! if [ ! -e kirby127a_3_1_ax_283Labels_M2_corrected_stats.csv ] ; \\\n",
        "  then wget https://raw.githubusercontent.com/bcaffo/ds4bme_intro/master/data/kirby127a_3_1_ax_283Labels_M2_corrected_stats.csv; \\\n",
        "fi\n",
        "\n",
        "#Read in csv data\n",
        "df = pd.read_csv(\"kirby127a_3_1_ax_283Labels_M2_corrected_stats.csv\")"
      ],
      "execution_count": 0,
      "outputs": []
    },
    {
      "cell_type": "code",
      "metadata": {
        "id": "XdWwMqXBGqxY",
        "colab_type": "code",
        "colab": {
          "base_uri": "https://localhost:8080/",
          "height": 137
        },
        "outputId": "d9291854-ad71-4a15-ef3c-16de88cc2f2e"
      },
      "source": [
        "#Prints out first few rows\n",
        "df.head(3)"
      ],
      "execution_count": 8,
      "outputs": [
        {
          "output_type": "execute_result",
          "data": {
            "text/html": [
              "<div>\n",
              "<style scoped>\n",
              "    .dataframe tbody tr th:only-of-type {\n",
              "        vertical-align: middle;\n",
              "    }\n",
              "\n",
              "    .dataframe tbody tr th {\n",
              "        vertical-align: top;\n",
              "    }\n",
              "\n",
              "    .dataframe thead th {\n",
              "        text-align: right;\n",
              "    }\n",
              "</style>\n",
              "<table border=\"1\" class=\"dataframe\">\n",
              "  <thead>\n",
              "    <tr style=\"text-align: right;\">\n",
              "      <th></th>\n",
              "      <th>Unnamed: 0</th>\n",
              "      <th>rawid</th>\n",
              "      <th>roi</th>\n",
              "      <th>volume</th>\n",
              "      <th>min</th>\n",
              "      <th>max</th>\n",
              "      <th>mean</th>\n",
              "      <th>std</th>\n",
              "      <th>type</th>\n",
              "      <th>level</th>\n",
              "    </tr>\n",
              "  </thead>\n",
              "  <tbody>\n",
              "    <tr>\n",
              "      <th>0</th>\n",
              "      <td>1</td>\n",
              "      <td>kirby127a_3_1_ax.img</td>\n",
              "      <td>Telencephalon_L</td>\n",
              "      <td>531111</td>\n",
              "      <td>0</td>\n",
              "      <td>374</td>\n",
              "      <td>128.3013</td>\n",
              "      <td>51.8593</td>\n",
              "      <td>1</td>\n",
              "      <td>1</td>\n",
              "    </tr>\n",
              "    <tr>\n",
              "      <th>1</th>\n",
              "      <td>2</td>\n",
              "      <td>kirby127a_3_1_ax.img</td>\n",
              "      <td>Telencephalon_R</td>\n",
              "      <td>543404</td>\n",
              "      <td>0</td>\n",
              "      <td>300</td>\n",
              "      <td>135.0683</td>\n",
              "      <td>53.6471</td>\n",
              "      <td>1</td>\n",
              "      <td>1</td>\n",
              "    </tr>\n",
              "    <tr>\n",
              "      <th>2</th>\n",
              "      <td>3</td>\n",
              "      <td>kirby127a_3_1_ax.img</td>\n",
              "      <td>Diencephalon_L</td>\n",
              "      <td>9683</td>\n",
              "      <td>15</td>\n",
              "      <td>295</td>\n",
              "      <td>193.5488</td>\n",
              "      <td>32.2733</td>\n",
              "      <td>1</td>\n",
              "      <td>1</td>\n",
              "    </tr>\n",
              "  </tbody>\n",
              "</table>\n",
              "</div>"
            ],
            "text/plain": [
              "   Unnamed: 0                 rawid              roi  ...      std  type  level\n",
              "0           1  kirby127a_3_1_ax.img  Telencephalon_L  ...  51.8593     1      1\n",
              "1           2  kirby127a_3_1_ax.img  Telencephalon_R  ...  53.6471     1      1\n",
              "2           3  kirby127a_3_1_ax.img   Diencephalon_L  ...  32.2733     1      1\n",
              "\n",
              "[3 rows x 10 columns]"
            ]
          },
          "metadata": {
            "tags": []
          },
          "execution_count": 8
        }
      ]
    }
  ]
}